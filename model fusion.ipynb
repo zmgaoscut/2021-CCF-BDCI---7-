{
 "cells": [
  {
   "cell_type": "code",
   "execution_count": 1,
   "id": "f7fb88df-1a39-46b9-991d-97fa8f27f964",
   "metadata": {
    "execution": {
     "iopub.execute_input": "2021-11-25T02:23:28.943853Z",
     "iopub.status.busy": "2021-11-25T02:23:28.943076Z",
     "iopub.status.idle": "2021-11-25T02:23:29.094839Z",
     "shell.execute_reply": "2021-11-25T02:23:29.094004Z",
     "shell.execute_reply.started": "2021-11-25T02:23:28.943817Z"
    }
   },
   "outputs": [],
   "source": [
    "############model fusion#######\n",
    "import numpy as np\n",
    "###########test#######\n",
    "from collections import Counter \n",
    "import csv\n",
    "test_num = 634\n",
    "score = 0\n",
    "for model in ('STGCN','AAGCN','MSG3D'):\n",
    "    for stream_type in ('Joint','Bone'):\n",
    "\n",
    "        score1 = np.load(f'work/PaddleVideo/score/{model}-{stream_type}/score.npy')\n",
    "        score2 = np.load(f'work/PaddleVideo/score/{model}-{stream_type}-2/score.npy')\n",
    "        score += score1 + score2\n",
    "        \n",
    "label = score.argmax(axis=1) #test_num\n",
    "values = []\n",
    "for i in range(test_num):\n",
    "    values.append((i,label[i]))\n",
    "headers = ['sample_index', 'predict_category']\n",
    "out_file = 'submission.csv'\n",
    "with open(out_file,'w',) as fp:\n",
    "    writer = csv.writer(fp)\n",
    "    writer.writerow(headers)\n",
    "    writer.writerows(values)"
   ]
  }
 ],
 "metadata": {
  "kernelspec": {
   "display_name": "Python 3",
   "language": "python",
   "name": "py35-paddle1.2.0"
  },
  "language_info": {
   "codemirror_mode": {
    "name": "ipython",
    "version": 3
   },
   "file_extension": ".py",
   "mimetype": "text/x-python",
   "name": "python",
   "nbconvert_exporter": "python",
   "pygments_lexer": "ipython3",
   "version": "3.7.4"
  }
 },
 "nbformat": 4,
 "nbformat_minor": 5
}
